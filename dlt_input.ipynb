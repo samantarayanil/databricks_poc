{
 "cells": [
  {
   "cell_type": "code",
   "execution_count": 0,
   "metadata": {
    "application/vnd.databricks.v1+cell": {
     "cellMetadata": {
      "byteLimit": 2048000,
      "rowLimit": 10000
     },
     "inputWidgets": {},
     "nuid": "0cc5a7fe-9e3e-4b82-a6c5-2928fb5b87dd",
     "showTitle": false,
     "tableResultSettingsMap": {
      "0": {
       "dataGridStateBlob": "{\"version\":1,\"tableState\":{\"columnPinning\":{\"left\":[\"#row_number#\"],\"right\":[]},\"columnSizing\":{},\"columnVisibility\":{}},\"settings\":{\"columns\":{}},\"syncTimestamp\":1758625375072}",
       "filterBlob": null,
       "queryPlanFiltersBlob": null,
       "tableResultIndex": 0
      }
     },
     "title": ""
    }
   },
   "outputs": [],
   "source": [
    "# %sql\n",
    "# CREATE SCHEMA IF NOT EXISTS dev.etl\n",
    "# COMMENT 'Schema for DLT introduction'"
   ]
  },
  {
   "cell_type": "code",
   "execution_count": 0,
   "metadata": {
    "application/vnd.databricks.v1+cell": {
     "cellMetadata": {
      "byteLimit": 2048000,
      "rowLimit": 10000
     },
     "inputWidgets": {},
     "nuid": "843121a8-4a51-40c2-9ca8-1d1adb55c634",
     "showTitle": false,
     "tableResultSettingsMap": {},
     "title": ""
    }
   },
   "outputs": [],
   "source": [
    "# %sql\n",
    "# CREATE TABLE IF NOT EXISTS dev.bronze.orders_raw DEEP CLONE samples.tpch.orders;\n",
    "# CREATE TABLE IF NOT EXISTS dev.bronze.customer_raw DEEP CLONE samples.tpch.customer;"
   ]
  },
  {
   "cell_type": "code",
   "execution_count": 0,
   "metadata": {
    "application/vnd.databricks.v1+cell": {
     "cellMetadata": {},
     "inputWidgets": {},
     "nuid": "f3771ee8-a32f-4f3f-9601-7d3d44ea86fc",
     "showTitle": false,
     "tableResultSettingsMap": {},
     "title": ""
    }
   },
   "outputs": [],
   "source": [
    "import dlt"
   ]
  },
  {
   "cell_type": "code",
   "execution_count": 0,
   "metadata": {
    "application/vnd.databricks.v1+cell": {
     "cellMetadata": {},
     "inputWidgets": {},
     "nuid": "7d34dbd2-3d85-4e50-aa1f-56b83814c8a7",
     "showTitle": false,
     "tableResultSettingsMap": {},
     "title": ""
    }
   },
   "outputs": [],
   "source": [
    "@dlt.table(\n",
    "  table_properties={\"quality\" : \"bronze\"},\n",
    "  comment = \"Order bronze table\"\n",
    ")\n",
    "def orders_broze():\n",
    "    df = spark.readStream.table(\"dev.bronze.orders_raw\")\n",
    "    return df"
   ]
  },
  {
   "cell_type": "code",
   "execution_count": 0,
   "metadata": {
    "application/vnd.databricks.v1+cell": {
     "cellMetadata": {},
     "inputWidgets": {},
     "nuid": "abae61b2-f020-4263-af80-81bb56dd15fe",
     "showTitle": false,
     "tableResultSettingsMap": {},
     "title": ""
    }
   },
   "outputs": [],
   "source": [
    "@dlt.table(\n",
    "  table_properties={\"quality\" : \"bronze\"},\n",
    "  comment = \"Customer bronze table\",\n",
    "  name = \"customer_bronze\"\n",
    ")\n",
    "def cust_broze():\n",
    "    df = spark.read.table(\"dev.bronze.customer_raw\")\n",
    "    return df"
   ]
  },
  {
   "cell_type": "code",
   "execution_count": 0,
   "metadata": {
    "application/vnd.databricks.v1+cell": {
     "cellMetadata": {},
     "inputWidgets": {},
     "nuid": "87c9b458-2151-415b-be17-7c4e98c5dca3",
     "showTitle": false,
     "tableResultSettingsMap": {},
     "title": ""
    }
   },
   "outputs": [],
   "source": [
    "@dlt.view(comment = \"Joined view\")\n",
    "def joined_vw():\n",
    "    df_c = spark.read.table(\"LIVE.customer_bronze\")\n",
    "    df_o = spark.read.table(\"LIVE.orders_broze\")\n",
    "    df_join = df_o.join(df_c, how = \"left_outer\", on = df_c.c_custkey == df_o.o_custkey)\n",
    "    return df_join"
   ]
  },
  {
   "cell_type": "code",
   "execution_count": 0,
   "metadata": {
    "application/vnd.databricks.v1+cell": {
     "cellMetadata": {},
     "inputWidgets": {},
     "nuid": "6ae8b374-e1dd-46c7-b835-46a6b674ed33",
     "showTitle": false,
     "tableResultSettingsMap": {},
     "title": ""
    }
   },
   "outputs": [],
   "source": [
    "from pyspark.sql.functions import current_timestamp, count\n",
    "@dlt.table(\n",
    "  table_properties={\"quality\" : \"silver\"},\n",
    "  comment = \"Joined view\",\n",
    "  name = \"joined_silver\"\n",
    ")\n",
    "def joined_silver():\n",
    "    df = spark.read.table(\"LIVE.joined_vw\").withColumn(\"__insert_date\", current_timestamp())\n",
    "    return df"
   ]
  },
  {
   "cell_type": "code",
   "execution_count": 0,
   "metadata": {
    "application/vnd.databricks.v1+cell": {
     "cellMetadata": {},
     "inputWidgets": {},
     "nuid": "de314d44-1c2d-40ea-b210-10fc4c3cc3af",
     "showTitle": false,
     "tableResultSettingsMap": {},
     "title": ""
    }
   },
   "outputs": [],
   "source": [
    "@dlt.table(\n",
    "  table_properties={\"quality\" : \"gold\"},\n",
    "  comment = \"Orders aggregated gold\",\n",
    "  name = \"orders_agg_gold\"\n",
    ")\n",
    "def joined_gold():\n",
    "    df = spark.read.table(\"LIVE.joined_silver\")\\\n",
    "        .groupBy(\"c_mktsegment\").agg(count(\"o_orderkey\").alias(\"sum_orders\"))\\\n",
    "        .withColumn(\"__insert_date\", current_timestamp())\n",
    "    return df"
   ]
  }
 ],
 "metadata": {
  "application/vnd.databricks.v1+notebook": {
   "computePreferences": {
    "hardware": {
     "accelerator": null,
     "gpuPoolId": null,
     "memory": null
    }
   },
   "dashboards": [],
   "environmentMetadata": {
    "base_environment": "",
    "environment_version": "3"
   },
   "inputWidgetPreferences": null,
   "language": "python",
   "notebookMetadata": {
    "pythonIndentUnit": 4
   },
   "notebookName": "dlt_input",
   "widgets": {}
  },
  "language_info": {
   "name": "python"
  }
 },
 "nbformat": 4,
 "nbformat_minor": 0
}
