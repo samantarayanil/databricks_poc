{
 "cells": [
  {
   "cell_type": "code",
   "execution_count": 0,
   "metadata": {
    "application/vnd.databricks.v1+cell": {
     "cellMetadata": {
      "byteLimit": 2048000,
      "rowLimit": 10000
     },
     "inputWidgets": {},
     "nuid": "ba1da510-751c-4ff4-808a-8105e0e8dd68",
     "showTitle": false,
     "tableResultSettingsMap": {},
     "title": ""
    }
   },
   "outputs": [],
   "source": [
    "CREATE OR REPLACE TABLE metadata_tables\n",
    "AS\n",
    "SELECT 'Bronze' AS data_zone, 'Customer' AS table_name, 'path1' AS source_file_path, 'N/A' AS source_table_name\n",
    "UNION\n",
    "SELECT 'Bronze' AS data_zone, 'Product' AS table_name, 'path2' AS source_file_path, 'N/A' AS source_table_name\n",
    "UNION\n",
    "SELECT 'Bronze' AS data_zone, 'Sales' AS table_name, 'path3' AS source_file_path, 'N/A' AS source_table_name\n",
    "UNION\n",
    "SELECT 'Silver' AS data_zone, 'Slv_Customer' AS table_name, 'N/A' AS source_file_path, 'Customer' AS source_table_name\n",
    "UNION\n",
    "SELECT 'Silver' AS data_zone, 'Slv_Product' AS table_name, 'N/A' AS source_file_path, 'Product' AS source_table_name\n",
    "UNION\n",
    "SELECT 'Silver' AS data_zone, 'Slv_Sales' AS table_name, 'N/A' AS source_file_path, 'Sales' AS source_table_name"
   ]
  },
  {
   "cell_type": "code",
   "execution_count": 0,
   "metadata": {
    "application/vnd.databricks.v1+cell": {
     "cellMetadata": {
      "byteLimit": 2048000,
      "rowLimit": 10000
     },
     "inputWidgets": {},
     "nuid": "a5fbb5d2-9390-450c-af7c-6a78a104a229",
     "showTitle": false,
     "tableResultSettingsMap": {},
     "title": ""
    }
   },
   "outputs": [],
   "source": [
    "SELECT * FROM metadata_tables"
   ]
  }
 ],
 "metadata": {
  "application/vnd.databricks.v1+notebook": {
   "computePreferences": {
    "hardware": {
     "accelerator": null,
     "gpuPoolId": null,
     "memory": null
    }
   },
   "dashboards": [],
   "environmentMetadata": {
    "base_environment": "",
    "environment_version": "4"
   },
   "inputWidgetPreferences": null,
   "language": "sql",
   "notebookMetadata": {
    "pythonIndentUnit": 4
   },
   "notebookName": "collect_metadata",
   "widgets": {}
  },
  "language_info": {
   "name": "sql"
  }
 },
 "nbformat": 4,
 "nbformat_minor": 0
}
