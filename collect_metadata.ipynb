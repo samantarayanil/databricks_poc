{
 "cells": [
  {
   "cell_type": "code",
   "execution_count": 0,
   "metadata": {
    "application/vnd.databricks.v1+cell": {
     "cellMetadata": {
      "byteLimit": 2048000,
      "rowLimit": 10000
     },
     "inputWidgets": {},
     "nuid": "ba1da510-751c-4ff4-808a-8105e0e8dd68",
     "showTitle": false,
     "tableResultSettingsMap": {},
     "title": ""
    }
   },
   "outputs": [],
   "source": [
    "CREATE OR REPLACE TABLE metadata_tables\n",
    "AS\n",
    "SELECT 'Bronze' AS data_zone, 'Customer' AS table_name, 'path1' AS source_file_path, 'N/A' AS source_table_name\n",
    "UNION\n",
    "SELECT 'Bronze' AS data_zone, 'Product' AS table_name, 'path2' AS source_file_path, 'N/A' AS source_table_name\n",
    "UNION\n",
    "SELECT 'Bronze' AS data_zone, 'Sales' AS table_name, 'path3' AS source_file_path, 'N/A' AS source_table_name\n",
    "UNION\n",
    "SELECT 'Silver' AS data_zone, 'Slv_Customer' AS table_name, 'N/A' AS source_file_path, 'Customer' AS source_table_name\n",
    "UNION\n",
    "SELECT 'Silver' AS data_zone, 'Slv_Product' AS table_name, 'N/A' AS source_file_path, 'Product' AS source_table_name\n",
    "UNION\n",
    "SELECT 'Silver' AS data_zone, 'Slv_Sales' AS table_name, 'N/A' AS source_file_path, 'Sales' AS source_table_name"
   ]
  },
  {
   "cell_type": "code",
   "execution_count": 0,
   "metadata": {
    "application/vnd.databricks.v1+cell": {
     "cellMetadata": {
      "byteLimit": 2048000,
      "rowLimit": 10000
     },
     "inputWidgets": {},
     "nuid": "a5fbb5d2-9390-450c-af7c-6a78a104a229",
     "showTitle": false,
     "tableResultSettingsMap": {},
     "title": ""
    }
   },
   "outputs": [],
   "source": [
    "%python\n",
    "df_metadata = (\n",
    "  spark\n",
    "  .read\n",
    "  .table('metadata_tables')\n",
    ")\n",
    "\n",
    "df_metadata.display()"
   ]
  },
  {
   "cell_type": "code",
   "execution_count": 0,
   "metadata": {
    "application/vnd.databricks.v1+cell": {
     "cellMetadata": {
      "byteLimit": 2048000,
      "rowLimit": 10000
     },
     "inputWidgets": {},
     "nuid": "4da42eee-15bd-4375-98ae-f82d6ee6a5e5",
     "showTitle": false,
     "tableResultSettingsMap": {},
     "title": ""
    }
   },
   "outputs": [],
   "source": [
    "%python\n",
    "from pyspark.sql.functions import collect_list, struct, col, to_json, lit, max, count\n",
    "\n",
    "metadata_list = df_metadata.agg(\n",
    "    to_json(\n",
    "        collect_list(\n",
    "            struct(\n",
    "                col(\"data_zone\"),\n",
    "                col(\"table_name\"),\n",
    "                col(\"source_file_path\"),\n",
    "                col(\"source_table_name\"),\n",
    "            )\n",
    "        )\n",
    "    ).alias(\"metadata_list\")\n",
    ").collect()[0]['metadata_list']"
   ]
  },
  {
   "cell_type": "code",
   "execution_count": 0,
   "metadata": {
    "application/vnd.databricks.v1+cell": {
     "cellMetadata": {
      "byteLimit": 2048000,
      "rowLimit": 10000
     },
     "inputWidgets": {},
     "nuid": "7553a133-c4d5-412c-8eea-87fd40afd34f",
     "showTitle": false,
     "tableResultSettingsMap": {},
     "title": ""
    }
   },
   "outputs": [],
   "source": [
    "%python\n",
    "dbutils.jobs.taskValues.set(\"metadata_list\", metadata_list)"
   ]
  },
  {
   "cell_type": "code",
   "execution_count": 0,
   "metadata": {
    "application/vnd.databricks.v1+cell": {
     "cellMetadata": {
      "byteLimit": 2048000,
      "rowLimit": 10000
     },
     "inputWidgets": {},
     "nuid": "5d444db8-d3c3-4596-b3a9-1a68fa74185e",
     "showTitle": false,
     "tableResultSettingsMap": {},
     "title": ""
    }
   },
   "outputs": [],
   "source": [
    "%python\n",
    "metadata_list"
   ]
  },
  {
   "cell_type": "code",
   "execution_count": 0,
   "metadata": {
    "application/vnd.databricks.v1+cell": {
     "cellMetadata": {
      "byteLimit": 2048000,
      "rowLimit": 10000
     },
     "inputWidgets": {},
     "nuid": "4a9c0f44-bf37-4c7d-9f1a-eb6332fc7665",
     "showTitle": false,
     "tableResultSettingsMap": {},
     "title": ""
    }
   },
   "outputs": [],
   "source": [
    "-- %python\n",
    "--     from pyspark.sql.functions import struct\n",
    "\n",
    "--     data = [(\"Alice\", 30, \"New York\"), (\"Bob\", 25, \"London\")]\n",
    "--     df = spark.createDataFrame(data, [\"name\", \"age\", \"city\"])\n",
    "\n",
    "--     df_with_struct = df.withColumn(\"location\", struct(df[\"city\"].alias(\"home_city\"), df[\"name\"].alias(\"name\")))\n",
    "--     df_with_struct.printSchema()"
   ]
  }
 ],
 "metadata": {
  "application/vnd.databricks.v1+notebook": {
   "computePreferences": {
    "hardware": {
     "accelerator": null,
     "gpuPoolId": null,
     "memory": null
    }
   },
   "dashboards": [],
   "environmentMetadata": {
    "base_environment": "",
    "environment_version": "4"
   },
   "inputWidgetPreferences": null,
   "language": "sql",
   "notebookMetadata": {
    "pythonIndentUnit": 4
   },
   "notebookName": "collect_metadata",
   "widgets": {}
  },
  "language_info": {
   "name": "sql"
  }
 },
 "nbformat": 4,
 "nbformat_minor": 0
}
