{
 "cells": [
  {
   "cell_type": "code",
   "execution_count": 0,
   "metadata": {
    "application/vnd.databricks.v1+cell": {
     "cellMetadata": {
      "byteLimit": 2048000,
      "rowLimit": 10000
     },
     "inputWidgets": {},
     "nuid": "26576981-b7d2-4b2b-b58f-e69aa437494d",
     "showTitle": false,
     "tableResultSettingsMap": {},
     "title": ""
    }
   },
   "outputs": [],
   "source": [
    "dbutils.widgets.text('TableName', 'default_value')\n",
    "dbutils.widgets.text('SourceFilePath', 'default_value')\n",
    "\n",
    "table_name = dbutils.widgets.get('TableName')\n",
    "source_file_path = dbutils.widgets.get('SourceFilePath')\n",
    "\n",
    "print(table_name, source_file_path)"
   ]
  }
 ],
 "metadata": {
  "application/vnd.databricks.v1+notebook": {
   "computePreferences": null,
   "dashboards": [],
   "environmentMetadata": {
    "base_environment": "",
    "environment_version": "4"
   },
   "inputWidgetPreferences": null,
   "language": "python",
   "notebookMetadata": {
    "pythonIndentUnit": 4
   },
   "notebookName": "silver_ingestion",
   "widgets": {
    "SourceFilePath": {
     "currentValue": "default_value",
     "nuid": "d9f523ea-59a5-492b-8e72-c3acdc584052",
     "typedWidgetInfo": {
      "autoCreated": false,
      "defaultValue": "default_value",
      "label": null,
      "name": "SourceFilePath",
      "options": {
       "widgetDisplayType": "Text",
       "validationRegex": null
      },
      "parameterDataType": "String"
     },
     "widgetInfo": {
      "widgetType": "text",
      "defaultValue": "default_value",
      "label": null,
      "name": "SourceFilePath",
      "options": {
       "widgetType": "text",
       "autoCreated": null,
       "validationRegex": null
      }
     }
    },
    "TableName": {
     "currentValue": "default_value",
     "nuid": "0ab06fa6-fa88-4ac2-b32c-f86bc05efc03",
     "typedWidgetInfo": {
      "autoCreated": false,
      "defaultValue": "default_value",
      "label": null,
      "name": "TableName",
      "options": {
       "widgetDisplayType": "Text",
       "validationRegex": null
      },
      "parameterDataType": "String"
     },
     "widgetInfo": {
      "widgetType": "text",
      "defaultValue": "default_value",
      "label": null,
      "name": "TableName",
      "options": {
       "widgetType": "text",
       "autoCreated": null,
       "validationRegex": null
      }
     }
    }
   }
  },
  "language_info": {
   "name": "python"
  }
 },
 "nbformat": 4,
 "nbformat_minor": 0
}
